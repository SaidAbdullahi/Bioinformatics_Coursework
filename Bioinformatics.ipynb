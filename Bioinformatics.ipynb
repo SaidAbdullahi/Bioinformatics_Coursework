{
 "cells": [
  {
   "cell_type": "code",
   "execution_count": 1,
   "metadata": {
    "collapsed": true
   },
   "outputs": [],
   "source": [
    "#Handle necessary imports\n",
    "import pandas as pd\n",
    "import numpy as np\n",
    "\n",
    "from Bio import SeqIO, SeqUtils\n",
    "\n",
    "from sklearn import preprocessing\n",
    "from sklearn.linear_model import LogisticRegression,LogisticRegressionCV\n",
    "from sklearn import metrics\n",
    "from sklearn.model_selection import train_test_split"
   ]
  },
  {
   "cell_type": "code",
   "execution_count": 2,
   "metadata": {
    "collapsed": false
   },
   "outputs": [],
   "source": [
    "#Load fasta sequence data\n",
    "cyto = 'data/cyto.fasta.txt'\n",
    "mito = 'data/mito.fasta.txt'\n",
    "nucleus = 'data/nucleus.fasta.txt'\n",
    "secreted = 'data/secreted.fasta.txt'"
   ]
  },
  {
   "cell_type": "code",
   "execution_count": 3,
   "metadata": {
    "collapsed": false
   },
   "outputs": [],
   "source": [
    "#Load 'cyto' data into dataframe and add label\n",
    "with open(cyto) as file:  \n",
    "    identifiers = []\n",
    "    sequences = []\n",
    "    for seq_record in SeqIO.parse(file, 'fasta'):  \n",
    "        identifiers.append(seq_record.id)\n",
    "        sequences.append(seq_record.seq)\n",
    "\n",
    "cyto_df = pd.DataFrame.from_records(sequences)\n",
    "cyto_df['label'] = 'cyto'\n",
    "\n",
    "#Replace None entries with NaN: useful for features later\n",
    "cyto_df.fillna(value=np.nan, inplace=True)"
   ]
  },
  {
   "cell_type": "code",
   "execution_count": 4,
   "metadata": {
    "collapsed": false
   },
   "outputs": [],
   "source": [
    "#Load 'mito' data into dataframe and add label\n",
    "with open(mito) as file:  \n",
    "    identifiers = []\n",
    "    sequences = []\n",
    "    for seq_record in SeqIO.parse(file, 'fasta'):  \n",
    "        identifiers.append(seq_record.id)\n",
    "        sequences.append(seq_record.seq)\n",
    "\n",
    "mito_df = pd.DataFrame.from_records(sequences)\n",
    "mito_df['label'] = 'mito'\n",
    "\n",
    "#Replace None entries with NaN: useful for features later\n",
    "mito_df.fillna(value=np.nan, inplace=True)"
   ]
  },
  {
   "cell_type": "code",
   "execution_count": 5,
   "metadata": {
    "collapsed": true
   },
   "outputs": [],
   "source": [
    "#Load 'nucleus' data into dataframe and add label\n",
    "with open(nucleus) as file:  \n",
    "    identifiers = []\n",
    "    sequences = []\n",
    "    for seq_record in SeqIO.parse(file, 'fasta'):  \n",
    "        identifiers.append(seq_record.id)\n",
    "        sequences.append(seq_record.seq)\n",
    "\n",
    "nucleus_df = pd.DataFrame.from_records(sequences)\n",
    "nucleus_df['label'] = 'nucleus'\n",
    "\n",
    "#Replace None entries with NaN: useful for features later\n",
    "nucleus_df.fillna(value=np.nan, inplace=True)"
   ]
  },
  {
   "cell_type": "code",
   "execution_count": 6,
   "metadata": {
    "collapsed": true
   },
   "outputs": [],
   "source": [
    "#Load 'secreted' data into dataframe and add label\n",
    "with open(secreted) as file:  \n",
    "    identifiers = []\n",
    "    sequences = []\n",
    "    for seq_record in SeqIO.parse(file, 'fasta'):  \n",
    "        identifiers.append(seq_record.id)\n",
    "        sequences.append(seq_record.seq)\n",
    "\n",
    "secreted_df = pd.DataFrame.from_records(sequences)\n",
    "secreted_df['label'] = 'secreted'\n",
    "\n",
    "#Replace None entries with NaN: useful for features later\n",
    "secreted_df.fillna(value=np.nan, inplace=True)"
   ]
  },
  {
   "cell_type": "code",
   "execution_count": 70,
   "metadata": {
    "collapsed": false
   },
   "outputs": [],
   "source": [
    "#Concatanate the dataframes into one with all the sequence data\n",
    "full_data=pd.concat([cyto_df,mito_df,nucleus_df,secreted_df],0,ignore_index=True)"
   ]
  },
  {
   "cell_type": "code",
   "execution_count": 71,
   "metadata": {
    "collapsed": false
   },
   "outputs": [
    {
     "data": {
      "text/html": [
       "<div>\n",
       "<table border=\"1\" class=\"dataframe\">\n",
       "  <thead>\n",
       "    <tr style=\"text-align: right;\">\n",
       "      <th></th>\n",
       "      <th>0</th>\n",
       "      <th>1</th>\n",
       "      <th>2</th>\n",
       "      <th>3</th>\n",
       "      <th>4</th>\n",
       "      <th>5</th>\n",
       "      <th>6</th>\n",
       "      <th>7</th>\n",
       "      <th>8</th>\n",
       "      <th>9</th>\n",
       "      <th>...</th>\n",
       "      <th>13091</th>\n",
       "      <th>13092</th>\n",
       "      <th>13093</th>\n",
       "      <th>13094</th>\n",
       "      <th>13095</th>\n",
       "      <th>13096</th>\n",
       "      <th>13097</th>\n",
       "      <th>13098</th>\n",
       "      <th>13099</th>\n",
       "      <th>label</th>\n",
       "    </tr>\n",
       "  </thead>\n",
       "  <tbody>\n",
       "    <tr>\n",
       "      <th>0</th>\n",
       "      <td>M</td>\n",
       "      <td>G</td>\n",
       "      <td>Q</td>\n",
       "      <td>Q</td>\n",
       "      <td>V</td>\n",
       "      <td>G</td>\n",
       "      <td>R</td>\n",
       "      <td>V</td>\n",
       "      <td>G</td>\n",
       "      <td>E</td>\n",
       "      <td>...</td>\n",
       "      <td>NaN</td>\n",
       "      <td>NaN</td>\n",
       "      <td>NaN</td>\n",
       "      <td>NaN</td>\n",
       "      <td>NaN</td>\n",
       "      <td>NaN</td>\n",
       "      <td>NaN</td>\n",
       "      <td>NaN</td>\n",
       "      <td>NaN</td>\n",
       "      <td>cyto</td>\n",
       "    </tr>\n",
       "    <tr>\n",
       "      <th>1</th>\n",
       "      <td>M</td>\n",
       "      <td>A</td>\n",
       "      <td>L</td>\n",
       "      <td>E</td>\n",
       "      <td>P</td>\n",
       "      <td>I</td>\n",
       "      <td>D</td>\n",
       "      <td>Y</td>\n",
       "      <td>T</td>\n",
       "      <td>T</td>\n",
       "      <td>...</td>\n",
       "      <td>NaN</td>\n",
       "      <td>NaN</td>\n",
       "      <td>NaN</td>\n",
       "      <td>NaN</td>\n",
       "      <td>NaN</td>\n",
       "      <td>NaN</td>\n",
       "      <td>NaN</td>\n",
       "      <td>NaN</td>\n",
       "      <td>NaN</td>\n",
       "      <td>cyto</td>\n",
       "    </tr>\n",
       "    <tr>\n",
       "      <th>2</th>\n",
       "      <td>M</td>\n",
       "      <td>N</td>\n",
       "      <td>Q</td>\n",
       "      <td>I</td>\n",
       "      <td>E</td>\n",
       "      <td>P</td>\n",
       "      <td>G</td>\n",
       "      <td>V</td>\n",
       "      <td>Q</td>\n",
       "      <td>Y</td>\n",
       "      <td>...</td>\n",
       "      <td>NaN</td>\n",
       "      <td>NaN</td>\n",
       "      <td>NaN</td>\n",
       "      <td>NaN</td>\n",
       "      <td>NaN</td>\n",
       "      <td>NaN</td>\n",
       "      <td>NaN</td>\n",
       "      <td>NaN</td>\n",
       "      <td>NaN</td>\n",
       "      <td>cyto</td>\n",
       "    </tr>\n",
       "    <tr>\n",
       "      <th>3</th>\n",
       "      <td>M</td>\n",
       "      <td>S</td>\n",
       "      <td>E</td>\n",
       "      <td>E</td>\n",
       "      <td>P</td>\n",
       "      <td>T</td>\n",
       "      <td>P</td>\n",
       "      <td>V</td>\n",
       "      <td>S</td>\n",
       "      <td>G</td>\n",
       "      <td>...</td>\n",
       "      <td>NaN</td>\n",
       "      <td>NaN</td>\n",
       "      <td>NaN</td>\n",
       "      <td>NaN</td>\n",
       "      <td>NaN</td>\n",
       "      <td>NaN</td>\n",
       "      <td>NaN</td>\n",
       "      <td>NaN</td>\n",
       "      <td>NaN</td>\n",
       "      <td>cyto</td>\n",
       "    </tr>\n",
       "    <tr>\n",
       "      <th>4</th>\n",
       "      <td>M</td>\n",
       "      <td>G</td>\n",
       "      <td>D</td>\n",
       "      <td>W</td>\n",
       "      <td>M</td>\n",
       "      <td>T</td>\n",
       "      <td>V</td>\n",
       "      <td>T</td>\n",
       "      <td>D</td>\n",
       "      <td>P</td>\n",
       "      <td>...</td>\n",
       "      <td>NaN</td>\n",
       "      <td>NaN</td>\n",
       "      <td>NaN</td>\n",
       "      <td>NaN</td>\n",
       "      <td>NaN</td>\n",
       "      <td>NaN</td>\n",
       "      <td>NaN</td>\n",
       "      <td>NaN</td>\n",
       "      <td>NaN</td>\n",
       "      <td>cyto</td>\n",
       "    </tr>\n",
       "  </tbody>\n",
       "</table>\n",
       "<p>5 rows × 13101 columns</p>\n",
       "</div>"
      ],
      "text/plain": [
       "   0  1  2  3  4  5  6  7  8  9  ...  13091 13092 13093 13094 13095 13096  \\\n",
       "0  M  G  Q  Q  V  G  R  V  G  E  ...    NaN   NaN   NaN   NaN   NaN   NaN   \n",
       "1  M  A  L  E  P  I  D  Y  T  T  ...    NaN   NaN   NaN   NaN   NaN   NaN   \n",
       "2  M  N  Q  I  E  P  G  V  Q  Y  ...    NaN   NaN   NaN   NaN   NaN   NaN   \n",
       "3  M  S  E  E  P  T  P  V  S  G  ...    NaN   NaN   NaN   NaN   NaN   NaN   \n",
       "4  M  G  D  W  M  T  V  T  D  P  ...    NaN   NaN   NaN   NaN   NaN   NaN   \n",
       "\n",
       "  13097 13098 13099 label  \n",
       "0   NaN   NaN   NaN  cyto  \n",
       "1   NaN   NaN   NaN  cyto  \n",
       "2   NaN   NaN   NaN  cyto  \n",
       "3   NaN   NaN   NaN  cyto  \n",
       "4   NaN   NaN   NaN  cyto  \n",
       "\n",
       "[5 rows x 13101 columns]"
      ]
     },
     "execution_count": 71,
     "metadata": {},
     "output_type": "execute_result"
    }
   ],
   "source": [
    "#Reindex the label column as the last column\n",
    "cols = full_data.columns.tolist()\n",
    "cols.insert(np.shape(full_data)[1], cols.pop(cols.index('label')))\n",
    "full_data = full_data.reindex(columns= cols)\n",
    "full_data.head()"
   ]
  },
  {
   "cell_type": "code",
   "execution_count": 72,
   "metadata": {
    "collapsed": false
   },
   "outputs": [
    {
     "data": {
      "text/plain": [
       "(9222, 13100)"
      ]
     },
     "execution_count": 72,
     "metadata": {},
     "output_type": "execute_result"
    }
   ],
   "source": [
    "#Remove labels column\n",
    "labels = full_data.pop('label')\n",
    "np.shape(full_data)"
   ]
  },
  {
   "cell_type": "code",
   "execution_count": 166,
   "metadata": {
    "collapsed": false
   },
   "outputs": [],
   "source": [
    "#Feature engineering starts here \n",
    "#i.e. find relevant features for the sequence data\n",
    "\n",
    "# 1. Sequence length\n",
    "sequence_length = pd.DataFrame(full_data.count(axis=1),columns=['seq len'])\n",
    "sequence_length = sequence_length.astype(float)"
   ]
  },
  {
   "cell_type": "code",
   "execution_count": 248,
   "metadata": {
    "collapsed": false
   },
   "outputs": [],
   "source": [
    "# 2. Global amino acid count i.e. no of amino acid per sequence\n",
    "global_count = full_data.T\n",
    "\n",
    "d = {}\n",
    "for i in range(len(full_data)):\n",
    "    series_global = global_count.groupby(i).size()\n",
    "    d[str(i)]=pd.DataFrame({i:series_global.values},index = series_global.index+' global')\n",
    "\n",
    "global_counts_feats = pd.concat([d[str(i)] for i in range(len(d))],axis=1)\n",
    "global_counts_feats = global_counts_feats.fillna(0)\n",
    "global_counts_feats = global_counts_feats.T"
   ]
  },
  {
   "cell_type": "code",
   "execution_count": 253,
   "metadata": {
    "collapsed": false
   },
   "outputs": [],
   "source": [
    "# 3. First 50 amino acid count \n",
    "local_count_first50 = global_count.drop(global_count.index[50:])\n",
    "\n",
    "d = {}\n",
    "for i in range(len(full_data)):\n",
    "    series_global = local_count_first50.groupby(i).size()\n",
    "    d[str(i)]=pd.DataFrame({i:series_global.values},index = series_global.index+' first50')\n",
    "\n",
    "first50_counts_feats = pd.concat([d[str(i)] for i in range(len(d))],axis=1)\n",
    "first50_counts_feats = first50_counts_feats.fillna(0)\n",
    "first50_counts_feats = first50_counts_feats.T"
   ]
  },
  {
   "cell_type": "code",
   "execution_count": 250,
   "metadata": {
    "collapsed": true
   },
   "outputs": [],
   "source": [
    "# 4. Last 50 amino acid count \n",
    "local_count_last50 = global_count.drop(global_count.index[:50])\n",
    "\n",
    "d = {}\n",
    "for i in range(len(full_data)):\n",
    "    series_global = local_count_last50.groupby(i).size()\n",
    "    d[str(i)]=pd.DataFrame({i:series_global.values},index = series_global.index+' last50')\n",
    "\n",
    "last50_counts_feats = pd.concat([d[str(i)] for i in range(len(d))],axis=1)\n",
    "last50_counts_feats = last50_counts_feats.fillna(0)\n",
    "last50_counts_feats = last50_counts_feats.T"
   ]
  },
  {
   "cell_type": "code",
   "execution_count": null,
   "metadata": {
    "collapsed": true
   },
   "outputs": [],
   "source": [
    "# 5. Isoelectric points\n"
   ]
  },
  {
   "cell_type": "code",
   "execution_count": 254,
   "metadata": {
    "collapsed": false
   },
   "outputs": [
    {
     "data": {
      "text/html": [
       "<div>\n",
       "<table border=\"1\" class=\"dataframe\">\n",
       "  <thead>\n",
       "    <tr style=\"text-align: right;\">\n",
       "      <th></th>\n",
       "      <th>seq len</th>\n",
       "      <th>A global</th>\n",
       "      <th>B global</th>\n",
       "      <th>C global</th>\n",
       "      <th>D global</th>\n",
       "      <th>E global</th>\n",
       "      <th>F global</th>\n",
       "      <th>G global</th>\n",
       "      <th>H global</th>\n",
       "      <th>I global</th>\n",
       "      <th>...</th>\n",
       "      <th>P last50</th>\n",
       "      <th>Q last50</th>\n",
       "      <th>R last50</th>\n",
       "      <th>S last50</th>\n",
       "      <th>T last50</th>\n",
       "      <th>U last50</th>\n",
       "      <th>V last50</th>\n",
       "      <th>W last50</th>\n",
       "      <th>X last50</th>\n",
       "      <th>Y last50</th>\n",
       "    </tr>\n",
       "  </thead>\n",
       "  <tbody>\n",
       "    <tr>\n",
       "      <th>0</th>\n",
       "      <td>1182.0</td>\n",
       "      <td>97.0</td>\n",
       "      <td>0.0</td>\n",
       "      <td>17.0</td>\n",
       "      <td>51.0</td>\n",
       "      <td>81.0</td>\n",
       "      <td>35.0</td>\n",
       "      <td>96.0</td>\n",
       "      <td>26.0</td>\n",
       "      <td>30.0</td>\n",
       "      <td>...</td>\n",
       "      <td>91.0</td>\n",
       "      <td>39.0</td>\n",
       "      <td>55.0</td>\n",
       "      <td>115.0</td>\n",
       "      <td>71.0</td>\n",
       "      <td>0.0</td>\n",
       "      <td>74.0</td>\n",
       "      <td>13.0</td>\n",
       "      <td>0.0</td>\n",
       "      <td>32.0</td>\n",
       "    </tr>\n",
       "    <tr>\n",
       "      <th>1</th>\n",
       "      <td>592.0</td>\n",
       "      <td>56.0</td>\n",
       "      <td>0.0</td>\n",
       "      <td>1.0</td>\n",
       "      <td>47.0</td>\n",
       "      <td>75.0</td>\n",
       "      <td>17.0</td>\n",
       "      <td>22.0</td>\n",
       "      <td>4.0</td>\n",
       "      <td>28.0</td>\n",
       "      <td>...</td>\n",
       "      <td>62.0</td>\n",
       "      <td>20.0</td>\n",
       "      <td>15.0</td>\n",
       "      <td>46.0</td>\n",
       "      <td>17.0</td>\n",
       "      <td>0.0</td>\n",
       "      <td>21.0</td>\n",
       "      <td>7.0</td>\n",
       "      <td>0.0</td>\n",
       "      <td>8.0</td>\n",
       "    </tr>\n",
       "    <tr>\n",
       "      <th>2</th>\n",
       "      <td>894.0</td>\n",
       "      <td>75.0</td>\n",
       "      <td>0.0</td>\n",
       "      <td>10.0</td>\n",
       "      <td>54.0</td>\n",
       "      <td>92.0</td>\n",
       "      <td>28.0</td>\n",
       "      <td>35.0</td>\n",
       "      <td>23.0</td>\n",
       "      <td>66.0</td>\n",
       "      <td>...</td>\n",
       "      <td>26.0</td>\n",
       "      <td>50.0</td>\n",
       "      <td>58.0</td>\n",
       "      <td>37.0</td>\n",
       "      <td>41.0</td>\n",
       "      <td>0.0</td>\n",
       "      <td>31.0</td>\n",
       "      <td>13.0</td>\n",
       "      <td>0.0</td>\n",
       "      <td>22.0</td>\n",
       "    </tr>\n",
       "    <tr>\n",
       "      <th>3</th>\n",
       "      <td>861.0</td>\n",
       "      <td>68.0</td>\n",
       "      <td>0.0</td>\n",
       "      <td>8.0</td>\n",
       "      <td>58.0</td>\n",
       "      <td>81.0</td>\n",
       "      <td>33.0</td>\n",
       "      <td>34.0</td>\n",
       "      <td>17.0</td>\n",
       "      <td>52.0</td>\n",
       "      <td>...</td>\n",
       "      <td>15.0</td>\n",
       "      <td>49.0</td>\n",
       "      <td>26.0</td>\n",
       "      <td>60.0</td>\n",
       "      <td>42.0</td>\n",
       "      <td>0.0</td>\n",
       "      <td>47.0</td>\n",
       "      <td>9.0</td>\n",
       "      <td>0.0</td>\n",
       "      <td>19.0</td>\n",
       "    </tr>\n",
       "    <tr>\n",
       "      <th>4</th>\n",
       "      <td>614.0</td>\n",
       "      <td>20.0</td>\n",
       "      <td>0.0</td>\n",
       "      <td>14.0</td>\n",
       "      <td>33.0</td>\n",
       "      <td>64.0</td>\n",
       "      <td>15.0</td>\n",
       "      <td>21.0</td>\n",
       "      <td>13.0</td>\n",
       "      <td>25.0</td>\n",
       "      <td>...</td>\n",
       "      <td>11.0</td>\n",
       "      <td>43.0</td>\n",
       "      <td>34.0</td>\n",
       "      <td>52.0</td>\n",
       "      <td>27.0</td>\n",
       "      <td>0.0</td>\n",
       "      <td>24.0</td>\n",
       "      <td>7.0</td>\n",
       "      <td>0.0</td>\n",
       "      <td>13.0</td>\n",
       "    </tr>\n",
       "  </tbody>\n",
       "</table>\n",
       "<p>5 rows × 69 columns</p>\n",
       "</div>"
      ],
      "text/plain": [
       "   seq len  A global  B global  C global  D global  E global  F global  \\\n",
       "0   1182.0      97.0       0.0      17.0      51.0      81.0      35.0   \n",
       "1    592.0      56.0       0.0       1.0      47.0      75.0      17.0   \n",
       "2    894.0      75.0       0.0      10.0      54.0      92.0      28.0   \n",
       "3    861.0      68.0       0.0       8.0      58.0      81.0      33.0   \n",
       "4    614.0      20.0       0.0      14.0      33.0      64.0      15.0   \n",
       "\n",
       "   G global  H global  I global    ...     P last50  Q last50  R last50  \\\n",
       "0      96.0      26.0      30.0    ...         91.0      39.0      55.0   \n",
       "1      22.0       4.0      28.0    ...         62.0      20.0      15.0   \n",
       "2      35.0      23.0      66.0    ...         26.0      50.0      58.0   \n",
       "3      34.0      17.0      52.0    ...         15.0      49.0      26.0   \n",
       "4      21.0      13.0      25.0    ...         11.0      43.0      34.0   \n",
       "\n",
       "   S last50  T last50  U last50  V last50  W last50  X last50  Y last50  \n",
       "0     115.0      71.0       0.0      74.0      13.0       0.0      32.0  \n",
       "1      46.0      17.0       0.0      21.0       7.0       0.0       8.0  \n",
       "2      37.0      41.0       0.0      31.0      13.0       0.0      22.0  \n",
       "3      60.0      42.0       0.0      47.0       9.0       0.0      19.0  \n",
       "4      52.0      27.0       0.0      24.0       7.0       0.0      13.0  \n",
       "\n",
       "[5 rows x 69 columns]"
      ]
     },
     "execution_count": 254,
     "metadata": {},
     "output_type": "execute_result"
    }
   ],
   "source": [
    "# Final feature dataframe to be used for model\n",
    "features_df = pd.concat([sequence_length,global_counts_feats,first50_counts_feats,last50_counts_feats],1)\n",
    "features_df.head()"
   ]
  },
  {
   "cell_type": "code",
   "execution_count": 255,
   "metadata": {
    "collapsed": false
   },
   "outputs": [],
   "source": [
    "# Encoding the 4 class labels\n",
    "le = preprocessing.LabelEncoder()\n",
    "le.fit(labels.values)\n",
    "\n",
    "labels_enc=le.transform(labels)\n",
    "labels_df = pd.DataFrame(labels_enc,columns=['labels'])"
   ]
  },
  {
   "cell_type": "code",
   "execution_count": 256,
   "metadata": {
    "collapsed": false
   },
   "outputs": [],
   "source": [
    "# Split the data into a training set and a test set\n",
    "X_train, X_test, y_train, y_test = train_test_split(features_df, labels_enc, random_state=0, test_size=0.3)"
   ]
  },
  {
   "cell_type": "code",
   "execution_count": 263,
   "metadata": {
    "collapsed": false
   },
   "outputs": [
    {
     "name": "stdout",
     "output_type": "stream",
     "text": [
      "Accuracy = 0.628478496567\n"
     ]
    }
   ],
   "source": [
    "# Train a model\n",
    "model = LogisticRegression()\n",
    "y_pred = model.fit(X_train, y_train).predict(X_test)\n",
    "print('Accuracy =', metrics.accuracy_score(y_test, y_pred))"
   ]
  },
  {
   "cell_type": "code",
   "execution_count": 258,
   "metadata": {
    "collapsed": false
   },
   "outputs": [
    {
     "name": "stdout",
     "output_type": "stream",
     "text": [
      "[[391  50 386  68]\n",
      " [ 59 270  49  17]\n",
      " [222  31 704  39]\n",
      " [ 26  40  41 374]]\n"
     ]
    }
   ],
   "source": [
    "# Confusion matrix\n",
    "print(metrics.confusion_matrix(y_test, y_pred))"
   ]
  },
  {
   "cell_type": "code",
   "execution_count": 259,
   "metadata": {
    "collapsed": false
   },
   "outputs": [
    {
     "name": "stdout",
     "output_type": "stream",
     "text": [
      "             precision    recall  f1-score   support\n",
      "\n",
      "          0       0.56      0.44      0.49       895\n",
      "          1       0.69      0.68      0.69       395\n",
      "          2       0.60      0.71      0.65       996\n",
      "          3       0.75      0.78      0.76       481\n",
      "\n",
      "avg / total       0.63      0.63      0.62      2767\n",
      "\n"
     ]
    }
   ],
   "source": [
    "# Evaluation Metrics\n",
    "print(metrics.classification_report(y_test, y_pred))"
   ]
  },
  {
   "cell_type": "code",
   "execution_count": null,
   "metadata": {
    "collapsed": true
   },
   "outputs": [],
   "source": []
  }
 ],
 "metadata": {
  "anaconda-cloud": {},
  "kernelspec": {
   "display_name": "Python [python35]",
   "language": "python",
   "name": "Python [python35]"
  },
  "language_info": {
   "codemirror_mode": {
    "name": "ipython",
    "version": 3
   },
   "file_extension": ".py",
   "mimetype": "text/x-python",
   "name": "python",
   "nbconvert_exporter": "python",
   "pygments_lexer": "ipython3",
   "version": "3.5.2"
  }
 },
 "nbformat": 4,
 "nbformat_minor": 0
}
